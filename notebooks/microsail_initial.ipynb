{
  "nbformat": 4,
  "nbformat_minor": 0,
  "metadata": {
    "colab": {
      "provenance": [],
      "authorship_tag": "ABX9TyPBzN46AvWG7s4ssqXLpME3",
      "include_colab_link": true
    },
    "kernelspec": {
      "name": "python3",
      "display_name": "Python 3"
    },
    "language_info": {
      "name": "python"
    }
  },
  "cells": [
    {
      "cell_type": "markdown",
      "metadata": {
        "id": "view-in-github",
        "colab_type": "text"
      },
      "source": [
        "<a href=\"https://colab.research.google.com/github/Anjani-k-16/MicrosAIl/blob/main/notebooks/microsail_initial.ipynb\" target=\"_parent\"><img src=\"https://colab.research.google.com/assets/colab-badge.svg\" alt=\"Open In Colab\"/></a>"
      ]
    },
    {
      "cell_type": "code",
      "execution_count": null,
      "metadata": {
        "id": "YP8ltVVTATER"
      },
      "outputs": [],
      "source": [
        "# Cell 1 - Setup & imports\n",
        "import numpy as np\n",
        "import pandas as pd\n",
        "import matplotlib.pyplot as plt\n",
        "import seaborn as sns\n",
        "from sklearn.model_selection import train_test_split\n",
        "from sklearn.ensemble import RandomForestRegressor\n",
        "from sklearn.metrics import r2_score, mean_absolute_error\n",
        "import joblib\n",
        "sns.set(style=\"whitegrid\")\n",
        "np.random.seed(42)\n"
      ]
    },
    {
      "cell_type": "code",
      "source": [
        "# Cell 2 - Create small synthetic soil dataset (you can replace with real data later)\n",
        "n = 60\n",
        "df = pd.DataFrame({\n",
        "    \"sample_id\": [f\"S{str(i+1).zfill(3)}\" for i in range(n)],\n",
        "    \"farm_id\": [f\"Farm{(i%8)+1}\" for i in range(n)],\n",
        "    \"pH\": np.round(np.random.normal(6.5, 0.5, n), 2),\n",
        "    \"organic_matter\": np.round(np.abs(np.random.normal(3.5, 1.0, n)), 2),\n",
        "    \"moisture_pct\": np.round(np.clip(np.random.normal(20, 5, n), 5, 40), 1),\n",
        "    \"N\": np.round(np.clip(np.random.normal(40, 12, n), 5, 120), 1),\n",
        "    \"P\": np.round(np.clip(np.random.normal(25, 8, n), 1, 80), 1),\n",
        "    \"K\": np.round(np.clip(np.random.normal(70, 20, n), 5, 200), 1),\n",
        "    \"tillage\": np.random.choice([\"no-till\",\"reduced\",\"conventional\"], n, p=[0.25,0.35,0.4]),\n",
        "    \"cover_crop\": np.random.choice([\"yes\",\"no\"], n, p=[0.35,0.65])\n",
        "})\n",
        "\n",
        "# Create an artificial \"microbial_diversity_index\" (label) dependent on OM, pH and cover crop\n",
        "df[\"microbial_diversity\"] = (\n",
        "    0.4 * (df[\"organic_matter\"]) +\n",
        "    0.25 * (7 - np.abs(df[\"pH\"] - 6.8)) +   # pH close to 6.8 slightly better\n",
        "    0.3 * (df[\"cover_crop\"].map({\"yes\":1,\"no\":0})) +\n",
        "    np.random.normal(0, 0.4, n)\n",
        ")\n",
        "# scale a bit\n",
        "df[\"microbial_diversity\"] = (df[\"microbial_diversity\"] - df[\"microbial_diversity\"].min()) / (df[\"microbial_diversity\"].max() - df[\"microbial_diversity\"].min()) * 2 + 2\n",
        "df.head()\n"
      ],
      "metadata": {
        "id": "u-04ZhyLAqBM"
      },
      "execution_count": null,
      "outputs": []
    },
    {
      "cell_type": "code",
      "source": [
        "# Cell 3 - EDA\n",
        "print(\"Shape:\", df.shape)\n",
        "display(df.describe())\n",
        "\n",
        "plt.figure(figsize=(8,4))\n",
        "sns.histplot(df[\"microbial_diversity\"], kde=True)\n",
        "plt.title(\"Microbial diversity (synthetic)\")\n",
        "plt.show()\n",
        "\n",
        "plt.figure(figsize=(10,8))\n",
        "sns.heatmap(df[[\"pH\",\"organic_matter\",\"moisture_pct\",\"N\",\"P\",\"K\",\"microbial_diversity\"]].corr(), annot=True, cmap=\"vlag\")\n",
        "plt.title(\"Correlation matrix\")\n",
        "plt.show()\n"
      ],
      "metadata": {
        "id": "suay4UCHAtDJ"
      },
      "execution_count": null,
      "outputs": []
    },
    {
      "cell_type": "code",
      "source": [
        "# Cell 4 - Preprocess + baseline model\n",
        "# One-hot encode categorical\n",
        "X = pd.get_dummies(df.drop(columns=[\"sample_id\",\"farm_id\",\"microbial_diversity\"]), drop_first=True)\n",
        "y = df[\"microbial_diversity\"]\n",
        "\n",
        "X_train, X_test, y_train, y_test = train_test_split(X, y, test_size=0.2, random_state=42)\n",
        "\n",
        "model = RandomForestRegressor(n_estimators=200, random_state=42)\n",
        "model.fit(X_train, y_train)\n",
        "y_pred = model.predict(X_test)\n",
        "\n",
        "print(\"R2 (test):\", round(r2_score(y_test, y_pred), 3))\n",
        "print(\"MAE (test):\", round(mean_absolute_error(y_test, y_pred), 3))\n",
        "\n",
        "# Save predictions inside the notebook\n",
        "results = pd.concat([X_test.reset_index(drop=True), y_test.reset_index(drop=True)], axis=1)\n",
        "results[\"y_pred\"] = y_pred\n",
        "results.head()\n"
      ],
      "metadata": {
        "id": "QR5B3LQgAzLR"
      },
      "execution_count": null,
      "outputs": []
    },
    {
      "cell_type": "code",
      "source": [
        "# Cell 5 - Save model and dataset to downloaded files (optional)\n",
        "from google.colab import files\n",
        "\n",
        "# Save CSV of synthetic data for upload if you want\n",
        "df.to_csv(\"microsail_synthetic_data.csv\", index=False)\n",
        "print(\"Saved microsail_synthetic_data.csv (download to upload to GitHub if desired).\")\n",
        "\n",
        "# Save model\n",
        "joblib.dump(model, \"microsail_baseline_model.pkl\")\n",
        "print(\"Saved microsail_baseline_model.pkl\")\n",
        "\n",
        "# If you want to download the files to your machine (click command output links)\n",
        "files.download(\"microsail_synthetic_data.csv\")\n",
        "files.download(\"microsail_baseline_model.pkl\")\n"
      ],
      "metadata": {
        "id": "NYzwGNGAA287"
      },
      "execution_count": null,
      "outputs": []
    },
    {
      "cell_type": "code",
      "source": [],
      "metadata": {
        "id": "w07BMFyYFmeR"
      },
      "execution_count": null,
      "outputs": []
    }
  ]
}